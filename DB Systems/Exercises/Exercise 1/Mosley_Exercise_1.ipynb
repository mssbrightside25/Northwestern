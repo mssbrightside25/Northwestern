{
 "cells": [
  {
   "cell_type": "code",
   "execution_count": 1,
   "metadata": {
    "collapsed": false,
    "deletable": true,
    "editable": true
   },
   "outputs": [
    {
     "data": {
      "text/plain": [
       "<_io.TextIOWrapper name='myflatfile.txt' mode='w' encoding='cp1252'>"
      ]
     },
     "execution_count": 1,
     "metadata": {},
     "output_type": "execute_result"
    }
   ],
   "source": [
    "outfile=open('myflatfile.txt','w')\n",
    "outfile"
   ]
  },
  {
   "cell_type": "code",
   "execution_count": 2,
   "metadata": {
    "collapsed": false,
    "deletable": true,
    "editable": true
   },
   "outputs": [
    {
     "data": {
      "text/plain": [
       "_io.TextIOWrapper"
      ]
     },
     "execution_count": 2,
     "metadata": {},
     "output_type": "execute_result"
    }
   ],
   "source": [
    "type(outfile)"
   ]
  },
  {
   "cell_type": "code",
   "execution_count": 3,
   "metadata": {
    "collapsed": false,
    "deletable": true,
    "editable": true
   },
   "outputs": [
    {
     "data": {
      "text/plain": [
       "91"
      ]
     },
     "execution_count": 3,
     "metadata": {},
     "output_type": "execute_result"
    }
   ],
   "source": [
    "iLikeButter='''Slather me toast with a bargefull of butter, and crown it with a bucket of Pythonberry jam.'''\n",
    "len(iLikeButter)"
   ]
  },
  {
   "cell_type": "code",
   "execution_count": 4,
   "metadata": {
    "collapsed": false,
    "deletable": true,
    "editable": true
   },
   "outputs": [
    {
     "data": {
      "text/plain": [
       "91"
      ]
     },
     "execution_count": 4,
     "metadata": {},
     "output_type": "execute_result"
    }
   ],
   "source": [
    "outfile.write(iLikeButter)"
   ]
  },
  {
   "cell_type": "code",
   "execution_count": 5,
   "metadata": {
    "collapsed": true,
    "deletable": true,
    "editable": true
   },
   "outputs": [],
   "source": [
    "outfile.close()"
   ]
  },
  {
   "cell_type": "code",
   "execution_count": 6,
   "metadata": {
    "collapsed": false,
    "deletable": true,
    "editable": true
   },
   "outputs": [
    {
     "data": {
      "text/plain": [
       "'C:\\\\Users\\\\crmo\\\\Desktop\\\\Class\\\\Predict 420'"
      ]
     },
     "execution_count": 6,
     "metadata": {},
     "output_type": "execute_result"
    }
   ],
   "source": [
    "import os\n",
    "os.getcwd()"
   ]
  },
  {
   "cell_type": "code",
   "execution_count": 7,
   "metadata": {
    "collapsed": false,
    "deletable": true,
    "editable": true
   },
   "outputs": [
    {
     "data": {
      "text/plain": [
       "str"
      ]
     },
     "execution_count": 7,
     "metadata": {},
     "output_type": "execute_result"
    }
   ],
   "source": [
    "infile=open('myflatfile.txt','r')\n",
    "doYouWantButter=infile.read()\n",
    "doYouWantButter\n",
    "type(doYouWantButter)\n",
    "type(_) # this underscore is used as an interpreter that stores the last expression value to the special variable called '_'"
   ]
  },
  {
   "cell_type": "code",
   "execution_count": 8,
   "metadata": {
    "collapsed": true,
    "deletable": true,
    "editable": true
   },
   "outputs": [],
   "source": [
    "kingsMenLouie=open('louielouie.txt','r')"
   ]
  },
  {
   "cell_type": "code",
   "execution_count": 9,
   "metadata": {
    "collapsed": true,
    "deletable": true,
    "editable": true
   },
   "outputs": [],
   "source": [
    "louielouie=kingsMenLouie.read()"
   ]
  },
  {
   "cell_type": "code",
   "execution_count": 10,
   "metadata": {
    "collapsed": false,
    "deletable": true,
    "editable": true
   },
   "outputs": [
    {
     "data": {
      "text/plain": [
       "\"Louie Louie, oh no\\nMe gotta go\\nAye-yi-yi-yi, I said\\nLouie Louie, oh baby\\nMe gotta go\\nFine little girl waits for me\\nCatch a ship across the sea\\nSail that ship about, all alone\\nNever know if I make it home\\nLouie Louie, oh oh no\\nMe gotta go, oh no\\nLouie Louie, oh baby\\nI said we gotta go\\nThree nights and days I sail the sea\\nThink of girl, constantly\\nOn that ship, I dream she's there\\nI smell the rose in her hair.\\nLouie Louie, oh no\\nMe gotta go\\nAye-yi-yi-yi, I said\\nLouie Louie, oh baby\\nMe gotta go\\nOkay, let's give it to 'em, right now!\\nSee Jamaica, the moon above\\nIt won't be long, me see me love\\nTake her in my arms again\\nI tell her I'll never leave again\\nLouie Louie, oh no\\nMe gotta go\\nAye-yi-yi-yi, I said\\nLouie Louie, oh baby\\nMe gotta go\\nI said we gotta go now\\nLet's take it on outta here now\\nLet's go!!\\n\""
      ]
     },
     "execution_count": 10,
     "metadata": {},
     "output_type": "execute_result"
    }
   ],
   "source": [
    "louielouie"
   ]
  },
  {
   "cell_type": "code",
   "execution_count": 11,
   "metadata": {
    "collapsed": true,
    "deletable": true,
    "editable": true
   },
   "outputs": [],
   "source": [
    "louielist=louielouie.split()"
   ]
  },
  {
   "cell_type": "code",
   "execution_count": 12,
   "metadata": {
    "collapsed": false,
    "deletable": true,
    "editable": true
   },
   "outputs": [
    {
     "data": {
      "text/plain": [
       "['Louie',\n",
       " 'Louie,',\n",
       " 'oh',\n",
       " 'no',\n",
       " 'Me',\n",
       " 'gotta',\n",
       " 'go',\n",
       " 'Aye-yi-yi-yi,',\n",
       " 'I',\n",
       " 'said',\n",
       " 'Louie',\n",
       " 'Louie,',\n",
       " 'oh',\n",
       " 'baby',\n",
       " 'Me',\n",
       " 'gotta',\n",
       " 'go',\n",
       " 'Fine',\n",
       " 'little',\n",
       " 'girl',\n",
       " 'waits',\n",
       " 'for',\n",
       " 'me',\n",
       " 'Catch',\n",
       " 'a',\n",
       " 'ship',\n",
       " 'across',\n",
       " 'the',\n",
       " 'sea',\n",
       " 'Sail',\n",
       " 'that',\n",
       " 'ship',\n",
       " 'about,',\n",
       " 'all',\n",
       " 'alone',\n",
       " 'Never',\n",
       " 'know',\n",
       " 'if',\n",
       " 'I',\n",
       " 'make',\n",
       " 'it',\n",
       " 'home',\n",
       " 'Louie',\n",
       " 'Louie,',\n",
       " 'oh',\n",
       " 'oh',\n",
       " 'no',\n",
       " 'Me',\n",
       " 'gotta',\n",
       " 'go,',\n",
       " 'oh',\n",
       " 'no',\n",
       " 'Louie',\n",
       " 'Louie,',\n",
       " 'oh',\n",
       " 'baby',\n",
       " 'I',\n",
       " 'said',\n",
       " 'we',\n",
       " 'gotta',\n",
       " 'go',\n",
       " 'Three',\n",
       " 'nights',\n",
       " 'and',\n",
       " 'days',\n",
       " 'I',\n",
       " 'sail',\n",
       " 'the',\n",
       " 'sea',\n",
       " 'Think',\n",
       " 'of',\n",
       " 'girl,',\n",
       " 'constantly',\n",
       " 'On',\n",
       " 'that',\n",
       " 'ship,',\n",
       " 'I',\n",
       " 'dream',\n",
       " \"she's\",\n",
       " 'there',\n",
       " 'I',\n",
       " 'smell',\n",
       " 'the',\n",
       " 'rose',\n",
       " 'in',\n",
       " 'her',\n",
       " 'hair.',\n",
       " 'Louie',\n",
       " 'Louie,',\n",
       " 'oh',\n",
       " 'no',\n",
       " 'Me',\n",
       " 'gotta',\n",
       " 'go',\n",
       " 'Aye-yi-yi-yi,',\n",
       " 'I',\n",
       " 'said',\n",
       " 'Louie',\n",
       " 'Louie,',\n",
       " 'oh',\n",
       " 'baby',\n",
       " 'Me',\n",
       " 'gotta',\n",
       " 'go',\n",
       " 'Okay,',\n",
       " \"let's\",\n",
       " 'give',\n",
       " 'it',\n",
       " 'to',\n",
       " \"'em,\",\n",
       " 'right',\n",
       " 'now!',\n",
       " 'See',\n",
       " 'Jamaica,',\n",
       " 'the',\n",
       " 'moon',\n",
       " 'above',\n",
       " 'It',\n",
       " \"won't\",\n",
       " 'be',\n",
       " 'long,',\n",
       " 'me',\n",
       " 'see',\n",
       " 'me',\n",
       " 'love',\n",
       " 'Take',\n",
       " 'her',\n",
       " 'in',\n",
       " 'my',\n",
       " 'arms',\n",
       " 'again',\n",
       " 'I',\n",
       " 'tell',\n",
       " 'her',\n",
       " \"I'll\",\n",
       " 'never',\n",
       " 'leave',\n",
       " 'again',\n",
       " 'Louie',\n",
       " 'Louie,',\n",
       " 'oh',\n",
       " 'no',\n",
       " 'Me',\n",
       " 'gotta',\n",
       " 'go',\n",
       " 'Aye-yi-yi-yi,',\n",
       " 'I',\n",
       " 'said',\n",
       " 'Louie',\n",
       " 'Louie,',\n",
       " 'oh',\n",
       " 'baby',\n",
       " 'Me',\n",
       " 'gotta',\n",
       " 'go',\n",
       " 'I',\n",
       " 'said',\n",
       " 'we',\n",
       " 'gotta',\n",
       " 'go',\n",
       " 'now',\n",
       " \"Let's\",\n",
       " 'take',\n",
       " 'it',\n",
       " 'on',\n",
       " 'outta',\n",
       " 'here',\n",
       " 'now',\n",
       " \"Let's\",\n",
       " 'go!!']"
      ]
     },
     "execution_count": 12,
     "metadata": {},
     "output_type": "execute_result"
    }
   ],
   "source": [
    "louielist"
   ]
  },
  {
   "cell_type": "code",
   "execution_count": 13,
   "metadata": {
    "collapsed": true,
    "deletable": true,
    "editable": true
   },
   "outputs": [],
   "source": [
    "louie=\"\""
   ]
  },
  {
   "cell_type": "code",
   "execution_count": 14,
   "metadata": {
    "collapsed": false,
    "deletable": true,
    "editable": true
   },
   "outputs": [
    {
     "data": {
      "text/plain": [
       "''"
      ]
     },
     "execution_count": 14,
     "metadata": {},
     "output_type": "execute_result"
    }
   ],
   "source": [
    "louie"
   ]
  },
  {
   "cell_type": "code",
   "execution_count": 15,
   "metadata": {
    "collapsed": true,
    "deletable": true,
    "editable": true
   },
   "outputs": [],
   "source": [
    "while True:\n",
    "    line=kingsMenLouie.readline()\n",
    "    if not line:\n",
    "        break\n",
    "        louie+=line"
   ]
  },
  {
   "cell_type": "code",
   "execution_count": 16,
   "metadata": {
    "collapsed": false,
    "deletable": true,
    "editable": true
   },
   "outputs": [
    {
     "data": {
      "text/plain": [
       "''"
      ]
     },
     "execution_count": 16,
     "metadata": {},
     "output_type": "execute_result"
    }
   ],
   "source": [
    "louie "
   ]
  },
  {
   "cell_type": "code",
   "execution_count": 17,
   "metadata": {
    "collapsed": false,
    "deletable": true,
    "editable": true
   },
   "outputs": [
    {
     "data": {
      "text/plain": [
       "\"Louie Louie, oh no\\nMe gotta go\\nAye-yi-yi-yi, I said\\nLouie Louie, oh baby\\nMe gotta go\\nFine little girl waits for me\\nCatch a ship across the sea\\nSail that ship about, all alone\\nNever know if I make it home\\nLouie Louie, oh oh no\\nMe gotta go, oh no\\nLouie Louie, oh baby\\nI said we gotta go\\nThree nights and days I sail the sea\\nThink of girl, constantly\\nOn that ship, I dream she's there\\nI smell the rose in her hair.\\nLouie Louie, oh no\\nMe gotta go\\nAye-yi-yi-yi, I said\\nLouie Louie, oh baby\\nMe gotta go\\nOkay, let's give it to 'em, right now!\\nSee Jamaica, the moon above\\nIt won't be long, me see me love\\nTake her in my arms again\\nI tell her I'll never leave again\\nLouie Louie, oh no\\nMe gotta go\\nAye-yi-yi-yi, I said\\nLouie Louie, oh baby\\nMe gotta go\\nI said we gotta go now\\nLet's take it on outta here now\\nLet's go!!\\n\""
      ]
     },
     "execution_count": 17,
     "metadata": {},
     "output_type": "execute_result"
    }
   ],
   "source": [
    "louielouie"
   ]
  },
  {
   "cell_type": "code",
   "execution_count": 18,
   "metadata": {
    "collapsed": false,
    "deletable": true,
    "editable": true
   },
   "outputs": [
    {
     "data": {
      "text/plain": [
       "''"
      ]
     },
     "execution_count": 18,
     "metadata": {},
     "output_type": "execute_result"
    }
   ],
   "source": [
    "line"
   ]
  },
  {
   "cell_type": "code",
   "execution_count": 19,
   "metadata": {
    "collapsed": true,
    "deletable": true,
    "editable": true
   },
   "outputs": [],
   "source": [
    "louie=louielouie"
   ]
  },
  {
   "cell_type": "code",
   "execution_count": 20,
   "metadata": {
    "collapsed": false,
    "deletable": true,
    "editable": true
   },
   "outputs": [
    {
     "data": {
      "text/plain": [
       "\"Louie Louie, oh no\\nMe gotta go\\nAye-yi-yi-yi, I said\\nLouie Louie, oh baby\\nMe gotta go\\nFine little girl waits for me\\nCatch a ship across the sea\\nSail that ship about, all alone\\nNever know if I make it home\\nLouie Louie, oh oh no\\nMe gotta go, oh no\\nLouie Louie, oh baby\\nI said we gotta go\\nThree nights and days I sail the sea\\nThink of girl, constantly\\nOn that ship, I dream she's there\\nI smell the rose in her hair.\\nLouie Louie, oh no\\nMe gotta go\\nAye-yi-yi-yi, I said\\nLouie Louie, oh baby\\nMe gotta go\\nOkay, let's give it to 'em, right now!\\nSee Jamaica, the moon above\\nIt won't be long, me see me love\\nTake her in my arms again\\nI tell her I'll never leave again\\nLouie Louie, oh no\\nMe gotta go\\nAye-yi-yi-yi, I said\\nLouie Louie, oh baby\\nMe gotta go\\nI said we gotta go now\\nLet's take it on outta here now\\nLet's go!!\\n\""
      ]
     },
     "execution_count": 20,
     "metadata": {},
     "output_type": "execute_result"
    }
   ],
   "source": [
    "louie #louie will now equal louielouie"
   ]
  },
  {
   "cell_type": "code",
   "execution_count": 21,
   "metadata": {
    "collapsed": true,
    "deletable": true,
    "editable": true
   },
   "outputs": [],
   "source": [
    "with open('greaseitup.txt','wt') as butterOut:\n",
    "    butterOut.write(iLikeButter)"
   ]
  },
  {
   "cell_type": "code",
   "execution_count": 22,
   "metadata": {
    "collapsed": false,
    "deletable": true,
    "editable": true
   },
   "outputs": [
    {
     "data": {
      "text/plain": [
       "<_io.TextIOWrapper name='greaseitup.txt' mode='wt' encoding='cp1252'>"
      ]
     },
     "execution_count": 22,
     "metadata": {},
     "output_type": "execute_result"
    }
   ],
   "source": [
    "butterOut"
   ]
  },
  {
   "cell_type": "code",
   "execution_count": 23,
   "metadata": {
    "collapsed": true,
    "deletable": true,
    "editable": true
   },
   "outputs": [],
   "source": [
    "import pickle"
   ]
  },
  {
   "cell_type": "code",
   "execution_count": 24,
   "metadata": {
    "collapsed": true,
    "deletable": true,
    "editable": true
   },
   "outputs": [],
   "source": [
    "pickle.dump(louielist,open('louielist.p','wb'))"
   ]
  },
  {
   "cell_type": "code",
   "execution_count": 25,
   "metadata": {
    "collapsed": false,
    "deletable": true,
    "editable": true
   },
   "outputs": [
    {
     "ename": "NameError",
     "evalue": "name 'pick' is not defined",
     "output_type": "error",
     "traceback": [
      "\u001b[1;31m---------------------------------------------------------------------------\u001b[0m",
      "\u001b[1;31mNameError\u001b[0m                                 Traceback (most recent call last)",
      "\u001b[1;32m<ipython-input-25-d521a6883922>\u001b[0m in \u001b[0;36m<module>\u001b[1;34m()\u001b[0m\n\u001b[1;32m----> 1\u001b[1;33m \u001b[0mlouieIsBack\u001b[0m\u001b[1;33m=\u001b[0m\u001b[0mpick\u001b[0m\u001b[1;33m.\u001b[0m\u001b[0mload\u001b[0m\u001b[1;33m(\u001b[0m\u001b[0mopen\u001b[0m\u001b[1;33m(\u001b[0m\u001b[1;34m'louielist.p'\u001b[0m\u001b[1;33m,\u001b[0m\u001b[1;34m'rb'\u001b[0m\u001b[1;33m)\u001b[0m\u001b[1;33m)\u001b[0m\u001b[1;33m\u001b[0m\u001b[0m\n\u001b[0m",
      "\u001b[1;31mNameError\u001b[0m: name 'pick' is not defined"
     ]
    }
   ],
   "source": [
    "louieIsBack=pick.load(open('louielist.p','rb'))"
   ]
  },
  {
   "cell_type": "code",
   "execution_count": 26,
   "metadata": {
    "collapsed": true,
    "deletable": true,
    "editable": true
   },
   "outputs": [],
   "source": [
    "louielsBack=pickle.load(open('louielist.p','rb'))"
   ]
  },
  {
   "cell_type": "code",
   "execution_count": 27,
   "metadata": {
    "collapsed": false,
    "deletable": true,
    "editable": true
   },
   "outputs": [
    {
     "data": {
      "text/plain": [
       "['Louie',\n",
       " 'Louie,',\n",
       " 'oh',\n",
       " 'no',\n",
       " 'Me',\n",
       " 'gotta',\n",
       " 'go',\n",
       " 'Aye-yi-yi-yi,',\n",
       " 'I',\n",
       " 'said',\n",
       " 'Louie',\n",
       " 'Louie,',\n",
       " 'oh',\n",
       " 'baby',\n",
       " 'Me',\n",
       " 'gotta',\n",
       " 'go',\n",
       " 'Fine',\n",
       " 'little',\n",
       " 'girl',\n",
       " 'waits',\n",
       " 'for',\n",
       " 'me',\n",
       " 'Catch',\n",
       " 'a',\n",
       " 'ship',\n",
       " 'across',\n",
       " 'the',\n",
       " 'sea',\n",
       " 'Sail',\n",
       " 'that',\n",
       " 'ship',\n",
       " 'about,',\n",
       " 'all',\n",
       " 'alone',\n",
       " 'Never',\n",
       " 'know',\n",
       " 'if',\n",
       " 'I',\n",
       " 'make',\n",
       " 'it',\n",
       " 'home',\n",
       " 'Louie',\n",
       " 'Louie,',\n",
       " 'oh',\n",
       " 'oh',\n",
       " 'no',\n",
       " 'Me',\n",
       " 'gotta',\n",
       " 'go,',\n",
       " 'oh',\n",
       " 'no',\n",
       " 'Louie',\n",
       " 'Louie,',\n",
       " 'oh',\n",
       " 'baby',\n",
       " 'I',\n",
       " 'said',\n",
       " 'we',\n",
       " 'gotta',\n",
       " 'go',\n",
       " 'Three',\n",
       " 'nights',\n",
       " 'and',\n",
       " 'days',\n",
       " 'I',\n",
       " 'sail',\n",
       " 'the',\n",
       " 'sea',\n",
       " 'Think',\n",
       " 'of',\n",
       " 'girl,',\n",
       " 'constantly',\n",
       " 'On',\n",
       " 'that',\n",
       " 'ship,',\n",
       " 'I',\n",
       " 'dream',\n",
       " \"she's\",\n",
       " 'there',\n",
       " 'I',\n",
       " 'smell',\n",
       " 'the',\n",
       " 'rose',\n",
       " 'in',\n",
       " 'her',\n",
       " 'hair.',\n",
       " 'Louie',\n",
       " 'Louie,',\n",
       " 'oh',\n",
       " 'no',\n",
       " 'Me',\n",
       " 'gotta',\n",
       " 'go',\n",
       " 'Aye-yi-yi-yi,',\n",
       " 'I',\n",
       " 'said',\n",
       " 'Louie',\n",
       " 'Louie,',\n",
       " 'oh',\n",
       " 'baby',\n",
       " 'Me',\n",
       " 'gotta',\n",
       " 'go',\n",
       " 'Okay,',\n",
       " \"let's\",\n",
       " 'give',\n",
       " 'it',\n",
       " 'to',\n",
       " \"'em,\",\n",
       " 'right',\n",
       " 'now!',\n",
       " 'See',\n",
       " 'Jamaica,',\n",
       " 'the',\n",
       " 'moon',\n",
       " 'above',\n",
       " 'It',\n",
       " \"won't\",\n",
       " 'be',\n",
       " 'long,',\n",
       " 'me',\n",
       " 'see',\n",
       " 'me',\n",
       " 'love',\n",
       " 'Take',\n",
       " 'her',\n",
       " 'in',\n",
       " 'my',\n",
       " 'arms',\n",
       " 'again',\n",
       " 'I',\n",
       " 'tell',\n",
       " 'her',\n",
       " \"I'll\",\n",
       " 'never',\n",
       " 'leave',\n",
       " 'again',\n",
       " 'Louie',\n",
       " 'Louie,',\n",
       " 'oh',\n",
       " 'no',\n",
       " 'Me',\n",
       " 'gotta',\n",
       " 'go',\n",
       " 'Aye-yi-yi-yi,',\n",
       " 'I',\n",
       " 'said',\n",
       " 'Louie',\n",
       " 'Louie,',\n",
       " 'oh',\n",
       " 'baby',\n",
       " 'Me',\n",
       " 'gotta',\n",
       " 'go',\n",
       " 'I',\n",
       " 'said',\n",
       " 'we',\n",
       " 'gotta',\n",
       " 'go',\n",
       " 'now',\n",
       " \"Let's\",\n",
       " 'take',\n",
       " 'it',\n",
       " 'on',\n",
       " 'outta',\n",
       " 'here',\n",
       " 'now',\n",
       " \"Let's\",\n",
       " 'go!!']"
      ]
     },
     "execution_count": 27,
     "metadata": {},
     "output_type": "execute_result"
    }
   ],
   "source": [
    "louielsBack"
   ]
  },
  {
   "cell_type": "code",
   "execution_count": 28,
   "metadata": {
    "collapsed": false,
    "deletable": true,
    "editable": true
   },
   "outputs": [
    {
     "data": {
      "text/plain": [
       "['Louie',\n",
       " 'Louie,',\n",
       " 'oh',\n",
       " 'no',\n",
       " 'Me',\n",
       " 'gotta',\n",
       " 'go',\n",
       " 'Aye-yi-yi-yi,',\n",
       " 'I',\n",
       " 'said',\n",
       " 'Louie',\n",
       " 'Louie,',\n",
       " 'oh',\n",
       " 'baby',\n",
       " 'Me',\n",
       " 'gotta',\n",
       " 'go',\n",
       " 'Fine',\n",
       " 'little',\n",
       " 'girl',\n",
       " 'waits',\n",
       " 'for',\n",
       " 'me',\n",
       " 'Catch',\n",
       " 'a',\n",
       " 'ship',\n",
       " 'across',\n",
       " 'the',\n",
       " 'sea',\n",
       " 'Sail',\n",
       " 'that',\n",
       " 'ship',\n",
       " 'about,',\n",
       " 'all',\n",
       " 'alone',\n",
       " 'Never',\n",
       " 'know',\n",
       " 'if',\n",
       " 'I',\n",
       " 'make',\n",
       " 'it',\n",
       " 'home',\n",
       " 'Louie',\n",
       " 'Louie,',\n",
       " 'oh',\n",
       " 'oh',\n",
       " 'no',\n",
       " 'Me',\n",
       " 'gotta',\n",
       " 'go,',\n",
       " 'oh',\n",
       " 'no',\n",
       " 'Louie',\n",
       " 'Louie,',\n",
       " 'oh',\n",
       " 'baby',\n",
       " 'I',\n",
       " 'said',\n",
       " 'we',\n",
       " 'gotta',\n",
       " 'go',\n",
       " 'Three',\n",
       " 'nights',\n",
       " 'and',\n",
       " 'days',\n",
       " 'I',\n",
       " 'sail',\n",
       " 'the',\n",
       " 'sea',\n",
       " 'Think',\n",
       " 'of',\n",
       " 'girl,',\n",
       " 'constantly',\n",
       " 'On',\n",
       " 'that',\n",
       " 'ship,',\n",
       " 'I',\n",
       " 'dream',\n",
       " \"she's\",\n",
       " 'there',\n",
       " 'I',\n",
       " 'smell',\n",
       " 'the',\n",
       " 'rose',\n",
       " 'in',\n",
       " 'her',\n",
       " 'hair.',\n",
       " 'Louie',\n",
       " 'Louie,',\n",
       " 'oh',\n",
       " 'no',\n",
       " 'Me',\n",
       " 'gotta',\n",
       " 'go',\n",
       " 'Aye-yi-yi-yi,',\n",
       " 'I',\n",
       " 'said',\n",
       " 'Louie',\n",
       " 'Louie,',\n",
       " 'oh',\n",
       " 'baby',\n",
       " 'Me',\n",
       " 'gotta',\n",
       " 'go',\n",
       " 'Okay,',\n",
       " \"let's\",\n",
       " 'give',\n",
       " 'it',\n",
       " 'to',\n",
       " \"'em,\",\n",
       " 'right',\n",
       " 'now!',\n",
       " 'See',\n",
       " 'Jamaica,',\n",
       " 'the',\n",
       " 'moon',\n",
       " 'above',\n",
       " 'It',\n",
       " \"won't\",\n",
       " 'be',\n",
       " 'long,',\n",
       " 'me',\n",
       " 'see',\n",
       " 'me',\n",
       " 'love',\n",
       " 'Take',\n",
       " 'her',\n",
       " 'in',\n",
       " 'my',\n",
       " 'arms',\n",
       " 'again',\n",
       " 'I',\n",
       " 'tell',\n",
       " 'her',\n",
       " \"I'll\",\n",
       " 'never',\n",
       " 'leave',\n",
       " 'again',\n",
       " 'Louie',\n",
       " 'Louie,',\n",
       " 'oh',\n",
       " 'no',\n",
       " 'Me',\n",
       " 'gotta',\n",
       " 'go',\n",
       " 'Aye-yi-yi-yi,',\n",
       " 'I',\n",
       " 'said',\n",
       " 'Louie',\n",
       " 'Louie,',\n",
       " 'oh',\n",
       " 'baby',\n",
       " 'Me',\n",
       " 'gotta',\n",
       " 'go',\n",
       " 'I',\n",
       " 'said',\n",
       " 'we',\n",
       " 'gotta',\n",
       " 'go',\n",
       " 'now',\n",
       " \"Let's\",\n",
       " 'take',\n",
       " 'it',\n",
       " 'on',\n",
       " 'outta',\n",
       " 'here',\n",
       " 'now',\n",
       " \"Let's\",\n",
       " 'go!!']"
      ]
     },
     "execution_count": 28,
     "metadata": {},
     "output_type": "execute_result"
    }
   ],
   "source": [
    "louielist"
   ]
  },
  {
   "cell_type": "code",
   "execution_count": 29,
   "metadata": {
    "collapsed": false,
    "deletable": true,
    "editable": true
   },
   "outputs": [
    {
     "data": {
      "text/plain": [
       "True"
      ]
     },
     "execution_count": 29,
     "metadata": {},
     "output_type": "execute_result"
    }
   ],
   "source": [
    "louielist == louielsBack"
   ]
  },
  {
   "cell_type": "code",
   "execution_count": 30,
   "metadata": {
    "collapsed": true,
    "deletable": true,
    "editable": true
   },
   "outputs": [],
   "source": [
    "import pandas as pd\n",
    "import numpy as np\n",
    "from pandas import DataFrame, Series"
   ]
  },
  {
   "cell_type": "code",
   "execution_count": 31,
   "metadata": {
    "collapsed": true,
    "deletable": true,
    "editable": true
   },
   "outputs": [],
   "source": [
    "xyzcust10=pd.read_csv('xyzcust10.csv')"
   ]
  },
  {
   "cell_type": "code",
   "execution_count": 32,
   "metadata": {
    "collapsed": false,
    "deletable": true,
    "editable": true
   },
   "outputs": [
    {
     "data": {
      "text/plain": [
       "ACCTNO                    object\n",
       "ZIP                        int64\n",
       "ZIP4                       int64\n",
       "LTD_SALES                float64\n",
       "LTD_TRANSACTIONS           int64\n",
       "YTD_SALES_2009           float64\n",
       "YTD_TRANSACTIONS_2009      int64\n",
       "CHANNEL_ACQUISITION       object\n",
       "BUYER_STATUS              object\n",
       "ZIP9_Supercode             int64\n",
       "ZIP9_SUPERCODE             int64\n",
       "dtype: object"
      ]
     },
     "execution_count": 32,
     "metadata": {},
     "output_type": "execute_result"
    }
   ],
   "source": [
    "xyzcust10.dtypes"
   ]
  },
  {
   "cell_type": "code",
   "execution_count": 33,
   "metadata": {
    "collapsed": false,
    "deletable": true,
    "editable": true
   },
   "outputs": [
    {
     "data": {
      "text/html": [
       "<div>\n",
       "<style scoped>\n",
       "    .dataframe tbody tr th:only-of-type {\n",
       "        vertical-align: middle;\n",
       "    }\n",
       "\n",
       "    .dataframe tbody tr th {\n",
       "        vertical-align: top;\n",
       "    }\n",
       "\n",
       "    .dataframe thead th {\n",
       "        text-align: right;\n",
       "    }\n",
       "</style>\n",
       "<table border=\"1\" class=\"dataframe\">\n",
       "  <thead>\n",
       "    <tr style=\"text-align: right;\">\n",
       "      <th></th>\n",
       "      <th>ACCTNO</th>\n",
       "      <th>ZIP</th>\n",
       "      <th>ZIP4</th>\n",
       "      <th>LTD_SALES</th>\n",
       "      <th>LTD_TRANSACTIONS</th>\n",
       "      <th>YTD_SALES_2009</th>\n",
       "      <th>YTD_TRANSACTIONS_2009</th>\n",
       "      <th>CHANNEL_ACQUISITION</th>\n",
       "      <th>BUYER_STATUS</th>\n",
       "      <th>ZIP9_Supercode</th>\n",
       "      <th>ZIP9_SUPERCODE</th>\n",
       "    </tr>\n",
       "  </thead>\n",
       "  <tbody>\n",
       "    <tr>\n",
       "      <th>0</th>\n",
       "      <td>WDQQLLDQL</td>\n",
       "      <td>60084</td>\n",
       "      <td>5016</td>\n",
       "      <td>90.0</td>\n",
       "      <td>1</td>\n",
       "      <td>0.0</td>\n",
       "      <td>0</td>\n",
       "      <td>IB</td>\n",
       "      <td>INACTIVE</td>\n",
       "      <td>600845016</td>\n",
       "      <td>600845016</td>\n",
       "    </tr>\n",
       "    <tr>\n",
       "      <th>1</th>\n",
       "      <td>WQWAYHYLA</td>\n",
       "      <td>60091</td>\n",
       "      <td>1750</td>\n",
       "      <td>4227.0</td>\n",
       "      <td>9</td>\n",
       "      <td>1263.0</td>\n",
       "      <td>3</td>\n",
       "      <td>RT</td>\n",
       "      <td>ACTIVE</td>\n",
       "      <td>600911750</td>\n",
       "      <td>600911750</td>\n",
       "    </tr>\n",
       "    <tr>\n",
       "      <th>2</th>\n",
       "      <td>GSHAPLHAW</td>\n",
       "      <td>60067</td>\n",
       "      <td>900</td>\n",
       "      <td>420.0</td>\n",
       "      <td>3</td>\n",
       "      <td>129.0</td>\n",
       "      <td>1</td>\n",
       "      <td>RT</td>\n",
       "      <td>ACTIVE</td>\n",
       "      <td>600670900</td>\n",
       "      <td>600670900</td>\n",
       "    </tr>\n",
       "    <tr>\n",
       "      <th>3</th>\n",
       "      <td>PGGYDYWAD</td>\n",
       "      <td>60068</td>\n",
       "      <td>3838</td>\n",
       "      <td>6552.0</td>\n",
       "      <td>6</td>\n",
       "      <td>0.0</td>\n",
       "      <td>0</td>\n",
       "      <td>RT</td>\n",
       "      <td>INACTIVE</td>\n",
       "      <td>600683838</td>\n",
       "      <td>600683838</td>\n",
       "    </tr>\n",
       "    <tr>\n",
       "      <th>4</th>\n",
       "      <td>LWPSGPLLS</td>\n",
       "      <td>60090</td>\n",
       "      <td>3932</td>\n",
       "      <td>189.0</td>\n",
       "      <td>3</td>\n",
       "      <td>72.0</td>\n",
       "      <td>1</td>\n",
       "      <td>RT</td>\n",
       "      <td>ACTIVE</td>\n",
       "      <td>600903932</td>\n",
       "      <td>600903932</td>\n",
       "    </tr>\n",
       "  </tbody>\n",
       "</table>\n",
       "</div>"
      ],
      "text/plain": [
       "      ACCTNO    ZIP  ZIP4  LTD_SALES  LTD_TRANSACTIONS  YTD_SALES_2009  \\\n",
       "0  WDQQLLDQL  60084  5016       90.0                 1             0.0   \n",
       "1  WQWAYHYLA  60091  1750     4227.0                 9          1263.0   \n",
       "2  GSHAPLHAW  60067   900      420.0                 3           129.0   \n",
       "3  PGGYDYWAD  60068  3838     6552.0                 6             0.0   \n",
       "4  LWPSGPLLS  60090  3932      189.0                 3            72.0   \n",
       "\n",
       "   YTD_TRANSACTIONS_2009 CHANNEL_ACQUISITION BUYER_STATUS  ZIP9_Supercode  \\\n",
       "0                      0                  IB     INACTIVE       600845016   \n",
       "1                      3                  RT       ACTIVE       600911750   \n",
       "2                      1                  RT       ACTIVE       600670900   \n",
       "3                      0                  RT     INACTIVE       600683838   \n",
       "4                      1                  RT       ACTIVE       600903932   \n",
       "\n",
       "   ZIP9_SUPERCODE  \n",
       "0       600845016  \n",
       "1       600911750  \n",
       "2       600670900  \n",
       "3       600683838  \n",
       "4       600903932  "
      ]
     },
     "execution_count": 33,
     "metadata": {},
     "output_type": "execute_result"
    }
   ],
   "source": [
    "xyzcust10.head()"
   ]
  },
  {
   "cell_type": "code",
   "execution_count": 34,
   "metadata": {
    "collapsed": false,
    "deletable": true,
    "editable": true
   },
   "outputs": [
    {
     "data": {
      "text/html": [
       "<div>\n",
       "<style scoped>\n",
       "    .dataframe tbody tr th:only-of-type {\n",
       "        vertical-align: middle;\n",
       "    }\n",
       "\n",
       "    .dataframe tbody tr th {\n",
       "        vertical-align: top;\n",
       "    }\n",
       "\n",
       "    .dataframe thead th {\n",
       "        text-align: right;\n",
       "    }\n",
       "</style>\n",
       "<table border=\"1\" class=\"dataframe\">\n",
       "  <thead>\n",
       "    <tr style=\"text-align: right;\">\n",
       "      <th></th>\n",
       "      <th>ACCTNO</th>\n",
       "      <th>ZIP</th>\n",
       "      <th>ZIP4</th>\n",
       "      <th>LTD_SALES</th>\n",
       "      <th>LTD_TRANSACTIONS</th>\n",
       "      <th>YTD_SALES_2009</th>\n",
       "      <th>YTD_TRANSACTIONS_2009</th>\n",
       "      <th>CHANNEL_ACQUISITION</th>\n",
       "      <th>BUYER_STATUS</th>\n",
       "      <th>ZIP9_Supercode</th>\n",
       "      <th>ZIP9_SUPERCODE</th>\n",
       "    </tr>\n",
       "  </thead>\n",
       "  <tbody>\n",
       "    <tr>\n",
       "      <th>30466</th>\n",
       "      <td>SYDQYLSWH</td>\n",
       "      <td>60098</td>\n",
       "      <td>3951</td>\n",
       "      <td>2736.0</td>\n",
       "      <td>9</td>\n",
       "      <td>96.0</td>\n",
       "      <td>1</td>\n",
       "      <td>RT</td>\n",
       "      <td>ACTIVE</td>\n",
       "      <td>600983951</td>\n",
       "      <td>600983951</td>\n",
       "    </tr>\n",
       "    <tr>\n",
       "      <th>30467</th>\n",
       "      <td>SAPDQHQLP</td>\n",
       "      <td>60098</td>\n",
       "      <td>9681</td>\n",
       "      <td>2412.0</td>\n",
       "      <td>8</td>\n",
       "      <td>108.0</td>\n",
       "      <td>1</td>\n",
       "      <td>RT</td>\n",
       "      <td>ACTIVE</td>\n",
       "      <td>600989681</td>\n",
       "      <td>600989681</td>\n",
       "    </tr>\n",
       "    <tr>\n",
       "      <th>30468</th>\n",
       "      <td>SASYAPDSY</td>\n",
       "      <td>60098</td>\n",
       "      <td>0</td>\n",
       "      <td>429.0</td>\n",
       "      <td>1</td>\n",
       "      <td>0.0</td>\n",
       "      <td>0</td>\n",
       "      <td>RT</td>\n",
       "      <td>INACTIVE</td>\n",
       "      <td>600983858</td>\n",
       "      <td>600983858</td>\n",
       "    </tr>\n",
       "    <tr>\n",
       "      <th>30469</th>\n",
       "      <td>PWQPDWHA</td>\n",
       "      <td>60098</td>\n",
       "      <td>7927</td>\n",
       "      <td>651.0</td>\n",
       "      <td>1</td>\n",
       "      <td>0.0</td>\n",
       "      <td>0</td>\n",
       "      <td>RT</td>\n",
       "      <td>INACTIVE</td>\n",
       "      <td>600987927</td>\n",
       "      <td>600987927</td>\n",
       "    </tr>\n",
       "    <tr>\n",
       "      <th>30470</th>\n",
       "      <td>SQQHDYHWH</td>\n",
       "      <td>60098</td>\n",
       "      <td>4160</td>\n",
       "      <td>4527.0</td>\n",
       "      <td>16</td>\n",
       "      <td>672.0</td>\n",
       "      <td>2</td>\n",
       "      <td>RT</td>\n",
       "      <td>ACTIVE</td>\n",
       "      <td>600984160</td>\n",
       "      <td>600984160</td>\n",
       "    </tr>\n",
       "  </tbody>\n",
       "</table>\n",
       "</div>"
      ],
      "text/plain": [
       "          ACCTNO    ZIP  ZIP4  LTD_SALES  LTD_TRANSACTIONS  YTD_SALES_2009  \\\n",
       "30466  SYDQYLSWH  60098  3951     2736.0                 9            96.0   \n",
       "30467  SAPDQHQLP  60098  9681     2412.0                 8           108.0   \n",
       "30468  SASYAPDSY  60098     0      429.0                 1             0.0   \n",
       "30469   PWQPDWHA  60098  7927      651.0                 1             0.0   \n",
       "30470  SQQHDYHWH  60098  4160     4527.0                16           672.0   \n",
       "\n",
       "       YTD_TRANSACTIONS_2009 CHANNEL_ACQUISITION BUYER_STATUS  ZIP9_Supercode  \\\n",
       "30466                      1                  RT       ACTIVE       600983951   \n",
       "30467                      1                  RT       ACTIVE       600989681   \n",
       "30468                      0                  RT     INACTIVE       600983858   \n",
       "30469                      0                  RT     INACTIVE       600987927   \n",
       "30470                      2                  RT       ACTIVE       600984160   \n",
       "\n",
       "       ZIP9_SUPERCODE  \n",
       "30466       600983951  \n",
       "30467       600989681  \n",
       "30468       600983858  \n",
       "30469       600987927  \n",
       "30470       600984160  "
      ]
     },
     "execution_count": 34,
     "metadata": {},
     "output_type": "execute_result"
    }
   ],
   "source": [
    "xyzcust10.tail() # ZIP9_Supercode and ZIP9_SUPERCODE are the exact same data"
   ]
  },
  {
   "cell_type": "code",
   "execution_count": 35,
   "metadata": {
    "collapsed": true,
    "deletable": true,
    "editable": true
   },
   "outputs": [],
   "source": [
    "# Produce a list of Zip values in xyzcust10 along with their frequencies\n",
    "# How many records with missing ZIP in xyzcust10?\n",
    "    # ZIP = 1\n",
    "    # ZIP4 = 3638\n",
    "# How many active and inactive BUYER_STATUS in xyzcust10?\n",
    "    # Active = 13465\n",
    "    # Inactive = 9078"
   ]
  },
  {
   "cell_type": "code",
   "execution_count": 36,
   "metadata": {
    "collapsed": false,
    "deletable": true,
    "editable": true
   },
   "outputs": [
    {
     "ename": "AttributeError",
     "evalue": "'DataFrame' object has no attribute 'list'",
     "output_type": "error",
     "traceback": [
      "\u001b[1;31m---------------------------------------------------------------------------\u001b[0m",
      "\u001b[1;31mAttributeError\u001b[0m                            Traceback (most recent call last)",
      "\u001b[1;32m<ipython-input-36-9d76d838c125>\u001b[0m in \u001b[0;36m<module>\u001b[1;34m()\u001b[0m\n\u001b[1;32m----> 1\u001b[1;33m \u001b[0mxyzcust10\u001b[0m\u001b[1;33m.\u001b[0m\u001b[0mlist\u001b[0m\u001b[1;33m(\u001b[0m\u001b[1;33m)\u001b[0m\u001b[1;33m\u001b[0m\u001b[0m\n\u001b[0m",
      "\u001b[1;32m~\\AppData\\Local\\Continuum\\anaconda3\\lib\\site-packages\\pandas\\core\\generic.py\u001b[0m in \u001b[0;36m__getattr__\u001b[1;34m(self, name)\u001b[0m\n\u001b[0;32m   3612\u001b[0m             \u001b[1;32mif\u001b[0m \u001b[0mname\u001b[0m \u001b[1;32min\u001b[0m \u001b[0mself\u001b[0m\u001b[1;33m.\u001b[0m\u001b[0m_info_axis\u001b[0m\u001b[1;33m:\u001b[0m\u001b[1;33m\u001b[0m\u001b[0m\n\u001b[0;32m   3613\u001b[0m                 \u001b[1;32mreturn\u001b[0m \u001b[0mself\u001b[0m\u001b[1;33m[\u001b[0m\u001b[0mname\u001b[0m\u001b[1;33m]\u001b[0m\u001b[1;33m\u001b[0m\u001b[0m\n\u001b[1;32m-> 3614\u001b[1;33m             \u001b[1;32mreturn\u001b[0m \u001b[0mobject\u001b[0m\u001b[1;33m.\u001b[0m\u001b[0m__getattribute__\u001b[0m\u001b[1;33m(\u001b[0m\u001b[0mself\u001b[0m\u001b[1;33m,\u001b[0m \u001b[0mname\u001b[0m\u001b[1;33m)\u001b[0m\u001b[1;33m\u001b[0m\u001b[0m\n\u001b[0m\u001b[0;32m   3615\u001b[0m \u001b[1;33m\u001b[0m\u001b[0m\n\u001b[0;32m   3616\u001b[0m     \u001b[1;32mdef\u001b[0m \u001b[0m__setattr__\u001b[0m\u001b[1;33m(\u001b[0m\u001b[0mself\u001b[0m\u001b[1;33m,\u001b[0m \u001b[0mname\u001b[0m\u001b[1;33m,\u001b[0m \u001b[0mvalue\u001b[0m\u001b[1;33m)\u001b[0m\u001b[1;33m:\u001b[0m\u001b[1;33m\u001b[0m\u001b[0m\n",
      "\u001b[1;31mAttributeError\u001b[0m: 'DataFrame' object has no attribute 'list'"
     ]
    }
   ],
   "source": [
    "xyzcust10.list()"
   ]
  },
  {
   "cell_type": "code",
   "execution_count": 37,
   "metadata": {
    "collapsed": true,
    "deletable": true,
    "editable": true
   },
   "outputs": [],
   "source": [
    "cols=[\"ZIP\",\"ZIP4\",\"ZIP9_Supercode\",\"ZIP9_SUPERCODE\"]"
   ]
  },
  {
   "cell_type": "code",
   "execution_count": 38,
   "metadata": {
    "collapsed": true,
    "deletable": true,
    "editable": true
   },
   "outputs": [],
   "source": [
    "df=[]"
   ]
  },
  {
   "cell_type": "code",
   "execution_count": 39,
   "metadata": {
    "collapsed": true,
    "deletable": true,
    "editable": true
   },
   "outputs": [],
   "source": [
    "for i in cols:\n",
    "    file=open(\"xyzcust10.csv\",\"r\")\n",
    "    heading=file.read().split(\", \")\n",
    "    df.append(heading)"
   ]
  },
  {
   "cell_type": "code",
   "execution_count": 41,
   "metadata": {
    "collapsed": false,
    "deletable": true,
    "editable": true
   },
   "outputs": [
    {
     "data": {
      "text/plain": [
       "['ZIP', 'ZIP4', 'ZIP9_Supercode', 'ZIP9_SUPERCODE']"
      ]
     },
     "execution_count": 41,
     "metadata": {},
     "output_type": "execute_result"
    }
   ],
   "source": [
    "cols"
   ]
  }
 ],
 "metadata": {
  "kernelspec": {
   "display_name": "Python 2",
   "language": "python",
   "name": "python2"
  },
  "language_info": {
   "codemirror_mode": {
    "name": "ipython",
    "version": 2
   },
   "file_extension": ".py",
   "mimetype": "text/x-python",
   "name": "python",
   "nbconvert_exporter": "python",
   "pygments_lexer": "ipython2",
   "version": "2.7.13"
  }
 },
 "nbformat": 4,
 "nbformat_minor": 2
}
